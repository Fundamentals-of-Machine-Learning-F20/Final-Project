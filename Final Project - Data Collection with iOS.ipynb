{
 "cells": [
  {
   "cell_type": "markdown",
   "metadata": {},
   "source": [
    "# Final Project - Data Collection for iOS"
   ]
  },
  {
   "cell_type": "markdown",
   "metadata": {},
   "source": [
    "If you are using an iOS device to collect you training data for the final project, you can use the [Voice Recorder app of the App Store](https://apps.apple.com/us/app/voice-recorder-voz/id1336782987).\n",
    "\n",
    "The iOS version of the app does not offer the option to record at 44 kHz. Instead you will be **recording at 48 kHz** while using all other settings as listed in the project description.\n",
    "\n",
    "You will then need to downsample each recording before you create your data files.\n",
    "\n",
    "* You can use the following code to downsample and save your training data:"
   ]
  },
  {
   "cell_type": "code",
   "execution_count": 1,
   "metadata": {},
   "outputs": [],
   "source": [
    "import numpy as np\n",
    "import os\n",
    "import librosa\n",
    "import pickle\n",
    "from IPython.display import display, Audio"
   ]
  },
  {
   "cell_type": "code",
   "execution_count": 2,
   "metadata": {},
   "outputs": [],
   "source": [
    "# mydir = 'change-this-to-your-data-directory-local-path'"
   ]
  },
  {
   "cell_type": "markdown",
   "metadata": {},
   "source": [
    "### Option 1\n",
    "\n",
    "Use the code below to play one file at a time, and manually label each recording.\n",
    "\n",
    "This code will output and save the data files in the desired format for assignment submission."
   ]
  },
  {
   "cell_type": "code",
   "execution_count": null,
   "metadata": {},
   "outputs": [],
   "source": [
    "labels = np.array([])\n",
    "data = {}\n",
    "statements = np.array([])\n",
    "i=0\n",
    "for file in os.listdir(mydir):\n",
    "    if file.endswith(\".wav\"): # Will only read .wav files\n",
    "        filename = mydir+'/'+file\n",
    "        \n",
    "        y, sr = librosa.load(filename, sr=48000) # files are recorded at 48kHz\n",
    "        resample_y = librosa.core.resample(y, 48000, 44000) # downsample from 48 kHz to 44 kHz\n",
    "        data[i] = resample_y\n",
    "        display(Audio(filename, rate=44000, autoplay=True)) # load a local WAV file\n",
    "        l = input('Type the emotion label (1,2,3,4,5,6,7,8) in this recording and then press Enter...\\n')\n",
    "        labels = np.hstack((labels, l))\n",
    "        s = input('Type the sentence (1 or 2) being read in this recording and then press Enter...\\n')\n",
    "        statements = np.hstack((statements,s))\n",
    "        i+=1\n",
    "\n",
    "print('-------------------------------------------------------')\n",
    "print('----------------------DONE-----------------------------')\n",
    "print('-------------------------------------------------------')\n",
    "if np.sum(labels=='')>0:\n",
    "    print('ATTENTION, ',np.sum(labels==''), ' LABEL/S IS/ARE MISSING')\n",
    "    \n",
    "if np.sum(statements=='')>0:\n",
    "    print('ATTENTION, ',np.sum(statements==''), ' STATEMENT/S IS/ARE MISSING')\n",
    "    \n",
    "print('There are ', len(data),' recordings')\n",
    "print('There are ', len(labels[labels!='']),' labels')\n",
    "print('There are ', len(statements[statements!='']),' statement recordings')\n",
    "\n",
    "# Saves the files to your current directory\n",
    "f = open(\"data.pkl\",\"wb\")\n",
    "pickle.dump(data,f)\n",
    "f.close()\n",
    "np.save('labels', labels)\n",
    "np.save('statements', labels)"
   ]
  },
  {
   "cell_type": "markdown",
   "metadata": {},
   "source": [
    "### Option 2\n",
    "\n",
    "Use the **coding system** from data collection to automatically create and save your data.\n",
    "\n",
    "The code below will help you with that, and it will output and save the data files in the desired format for assignment submission."
   ]
  },
  {
   "cell_type": "code",
   "execution_count": null,
   "metadata": {},
   "outputs": [],
   "source": [
    "labels = np.array([])\n",
    "data = {}\n",
    "statements = np.array([])\n",
    "i=0\n",
    "for file in os.listdir(mydir):\n",
    "    if file.endswith(\".wav\"): # Will only read .wav files\n",
    "        filewav = file\n",
    "        filename = mydir+'/'+file\n",
    "        y, sr = librosa.load(filename, sr=48000) # files are recorded at 48kHz\n",
    "        resample_y = librosa.core.resample(y, 48000, 44000) # downsample from 48 kHz to 44 kHz\n",
    "        data[i] = resample_y\n",
    "        labels = np.hstack((labels, int(filewav[4])))\n",
    "        statements = np.hstack((statements,int(filewav[6])))\n",
    "        i+=1\n",
    "\n",
    "print('-------------------------------------------------------')\n",
    "print('----------------------DONE-----------------------------')\n",
    "print('-------------------------------------------------------')\n",
    "\n",
    "# Saves the files to your current directory\n",
    "f = open(\"data.pkl\",\"wb\")\n",
    "pickle.dump(data,f)\n",
    "f.close()\n",
    "np.save('labels', labels)\n",
    "np.save('statements', labels)"
   ]
  },
  {
   "cell_type": "code",
   "execution_count": null,
   "metadata": {},
   "outputs": [],
   "source": []
  }
 ],
 "metadata": {
  "kernelspec": {
   "display_name": "Python 3",
   "language": "python",
   "name": "python3"
  },
  "language_info": {
   "codemirror_mode": {
    "name": "ipython",
    "version": 3
   },
   "file_extension": ".py",
   "mimetype": "text/x-python",
   "name": "python",
   "nbconvert_exporter": "python",
   "pygments_lexer": "ipython3",
   "version": "3.7.7"
  },
  "latex_envs": {
   "LaTeX_envs_menu_present": true,
   "autoclose": false,
   "autocomplete": true,
   "bibliofile": "biblio.bib",
   "cite_by": "apalike",
   "current_citInitial": 1,
   "eqLabelWithNumbers": true,
   "eqNumInitial": 1,
   "hotkeys": {
    "equation": "Ctrl-E",
    "itemize": "Ctrl-I"
   },
   "labels_anchors": false,
   "latex_user_defs": false,
   "report_style_numbering": false,
   "user_envs_cfg": false
  },
  "varInspector": {
   "cols": {
    "lenName": 16,
    "lenType": 16,
    "lenVar": 40
   },
   "kernels_config": {
    "python": {
     "delete_cmd_postfix": "",
     "delete_cmd_prefix": "del ",
     "library": "var_list.py",
     "varRefreshCmd": "print(var_dic_list())"
    },
    "r": {
     "delete_cmd_postfix": ") ",
     "delete_cmd_prefix": "rm(",
     "library": "var_list.r",
     "varRefreshCmd": "cat(var_dic_list()) "
    }
   },
   "types_to_exclude": [
    "module",
    "function",
    "builtin_function_or_method",
    "instance",
    "_Feature"
   ],
   "window_display": false
  }
 },
 "nbformat": 4,
 "nbformat_minor": 4
}
